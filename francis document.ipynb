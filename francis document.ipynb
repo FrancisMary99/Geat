{
 "cells": [
  {
   "cell_type": "markdown",
   "id": "edd328f1",
   "metadata": {},
   "source": [
    "# In This Notebook, Data Science tools and Ecosyste are summarized."
   ]
  },
  {
   "cell_type": "markdown",
   "id": "45535df9",
   "metadata": {},
   "source": [
    "# **Objectives**\n",
    "## List popular languages for Data Science\n",
    "## Simple arithmetic expression to mutiply then add integers\n",
    "## Converting 200 minutes to hours by diving by 60\n",
    "## List commonly used libraries used by Data Scientists"
   ]
  },
  {
   "cell_type": "markdown",
   "id": "8aa6d22a",
   "metadata": {},
   "source": [
    "# Some of the popular languages that Data Scientist used are:\n",
    "## 1. Python\n",
    "## 2. SQL\n",
    "## 3. R"
   ]
  },
  {
   "cell_type": "markdown",
   "id": "9f212ea0",
   "metadata": {},
   "source": [
    "# Some of the commonly used libraries used by data scientis includes:\n",
    "## 1. Tensorflow\n",
    "## 2. Matplotlib\n",
    "## 3. Numpy"
   ]
  },
  {
   "cell_type": "markdown",
   "id": "6bdb8b14",
   "metadata": {},
   "source": [
    "#\n",
    "|Data Science Tools|\n",
    "|------------------|\n",
    "|RStudio|\n",
    "|Apache Spark|\n",
    "|Tensor Flow|"
   ]
  },
  {
   "cell_type": "markdown",
   "id": "198a5e60",
   "metadata": {},
   "source": [
    "### Below are a few examples of evaluating arithemetic expresion in Python"
   ]
  },
  {
   "cell_type": "code",
   "execution_count": 2,
   "id": "faed747c",
   "metadata": {},
   "outputs": [
    {
     "data": {
      "text/plain": [
       "17"
      ]
     },
     "execution_count": 2,
     "metadata": {},
     "output_type": "execute_result"
    }
   ],
   "source": [
    "#\n",
    "(3*4)+5"
   ]
  },
  {
   "cell_type": "code",
   "execution_count": 3,
   "id": "a1047840",
   "metadata": {},
   "outputs": [
    {
     "data": {
      "text/plain": [
       "3.3333333333333335"
      ]
     },
     "execution_count": 3,
     "metadata": {},
     "output_type": "execute_result"
    }
   ],
   "source": [
    "#\n",
    "200/60"
   ]
  },
  {
   "cell_type": "markdown",
   "id": "d6190925",
   "metadata": {},
   "source": [
    "## Author\n",
    "Ameh Francis Ameh"
   ]
  }
 ],
 "metadata": {
  "kernelspec": {
   "display_name": "Python 3",
   "language": "python",
   "name": "python3"
  },
  "language_info": {
   "codemirror_mode": {
    "name": "ipython",
    "version": 3
   },
   "file_extension": ".py",
   "mimetype": "text/x-python",
   "name": "python",
   "nbconvert_exporter": "python",
   "pygments_lexer": "ipython3",
   "version": "3.10.9"
  }
 },
 "nbformat": 4,
 "nbformat_minor": 5
}
